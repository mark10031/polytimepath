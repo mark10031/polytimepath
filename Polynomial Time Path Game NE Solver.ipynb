{
 "cells": [
  {
   "cell_type": "code",
   "execution_count": 41,
   "metadata": {},
   "outputs": [],
   "source": [
    "import numpy as np"
   ]
  },
  {
   "cell_type": "code",
   "execution_count": 68,
   "metadata": {},
   "outputs": [
    {
     "name": "stdout",
     "output_type": "stream",
     "text": [
      "True\n"
     ]
    }
   ],
   "source": [
    "#best responses here. since choosing best response is trivially possible in polynomial time and the payoff tables \n",
    "#require some formatting to be readable as outputs, this stage is skipped.\n",
    "p = [[1, 1, 1, 1], [1, 0, 0, 1], [0, 0, 0, 0], [1, 0, 1, 1], [1, 1, 0, 0], [1, 0, 1, 0]] \n",
    "print(run_test(p))"
   ]
  },
  {
   "cell_type": "code",
   "execution_count": 58,
   "metadata": {},
   "outputs": [],
   "source": [
    "check_left = [[0, 1], [2, 3], []]\n",
    "verif_left = [0, 1, 0, 1]\n",
    "check_right = [[0, 2], [1, 3], []]\n",
    "verif_right = [0, 0, 1, 1]\n",
    "\n",
    "def check_compat(compare, left = 0, right = 0):\n",
    "    if left != 0:\n",
    "        for x in range(len(compare)):\n",
    "            choice = compare[x]\n",
    "            \n",
    "            okay = False\n",
    "            for y in check_left[choice]:\n",
    "                if left[y] == verif_left[x]:\n",
    "                    if choice == verif_right[y]:\n",
    "                        okay = True\n",
    "            if okay == False:\n",
    "                compare[x] = 2        \n",
    "                \n",
    "    if right != 0:\n",
    "        for x in range(len(compare)):\n",
    "            okay = False\n",
    "            choice = compare[x]\n",
    "            for y in check_right[choice]:\n",
    "                if right[y] == verif_right[x]:\n",
    "                    okay = True\n",
    "            if okay == False:\n",
    "                compare[x] = 2\n",
    "    return compare, left, right"
   ]
  },
  {
   "cell_type": "code",
   "execution_count": 67,
   "metadata": {},
   "outputs": [],
   "source": [
    "def run_test(players):\n",
    "    no_players = len(players)\n",
    "    \n",
    "    check_compat(players[0], right = players[1])\n",
    "    for x in range(1, no_players - 1):\n",
    "        check_compat(players[x], players[x-1], players[x+1])\n",
    "    check_compat(players[no_players -1], left = players[no_players -2])\n",
    "    \n",
    "    for x in range(no_players - 2, 0, -1):\n",
    "        check_compat(players[x], players[x-1], players[x+1])\n",
    "    check_compat(players[0], right = players[1])\n",
    "    \n",
    "    for x in range(len(players)):\n",
    "        possible = False\n",
    "        for y in players[x]:\n",
    "            if y == 1 or y == 0:\n",
    "                possible = True\n",
    "        if possible == False:\n",
    "            return False\n",
    "    \n",
    "    return True"
   ]
  },
  {
   "cell_type": "code",
   "execution_count": null,
   "metadata": {},
   "outputs": [],
   "source": []
  }
 ],
 "metadata": {
  "kernelspec": {
   "display_name": "Python 3",
   "language": "python",
   "name": "python3"
  },
  "language_info": {
   "codemirror_mode": {
    "name": "ipython",
    "version": 3
   },
   "file_extension": ".py",
   "mimetype": "text/x-python",
   "name": "python",
   "nbconvert_exporter": "python",
   "pygments_lexer": "ipython3",
   "version": "3.6.5"
  }
 },
 "nbformat": 4,
 "nbformat_minor": 2
}
